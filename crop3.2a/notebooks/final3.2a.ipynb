{
 "cells": [
  {
   "cell_type": "code",
   "execution_count": 5,
   "id": "da9dcba9",
   "metadata": {},
   "outputs": [],
   "source": [
    "import os\n",
    "import ee\n",
    "import geemap\n",
    "import json\n",
    "from geemap import geojson_to_ee, ee_to_geojson\n",
    "from ipyleaflet import GeoJSON\n",
    "import requests\n",
    "from osgeo import gdal\n",
    "import pycrs\n",
    "\n",
    "from pcraster import *\n",
    "import rasterio\n",
    "from matplotlib import pyplot as plt\n",
    "import numpy as np\n",
    "from matplotlib import colors\n",
    "from matplotlib.ticker import PercentFormatter\n",
    "import plotly.express as px\n",
    "\n",
    "\n"
   ]
  },
  {
   "cell_type": "code",
   "execution_count": 2,
   "id": "fbb04e35",
   "metadata": {},
   "outputs": [],
   "source": [
    "# if required run this command\n",
    "# ee.Initialize()\n",
    "# print(os.getcwd())"
   ]
  },
  {
   "cell_type": "code",
   "execution_count": null,
   "id": "5173bfe7",
   "metadata": {},
   "outputs": [],
   "source": [
    "# Creating a Basemap"
   ]
  },
  {
   "cell_type": "code",
   "execution_count": 3,
   "id": "db78a1f9",
   "metadata": {},
   "outputs": [],
   "source": [
    "Map=geemap.Map(center=[30,78],zoom=5)\n"
   ]
  },
  {
   "cell_type": "code",
   "execution_count": null,
   "id": "340c2ea3",
   "metadata": {},
   "outputs": [],
   "source": [
    "# Adding vector layer of area of interest"
   ]
  },
  {
   "cell_type": "code",
   "execution_count": 6,
   "id": "33afe51c",
   "metadata": {},
   "outputs": [],
   "source": [
    "in7=gpd.read_file('https://raw.githubusercontent.com/UdayKumar0711/wells/main/parewar.geojson')\n",
    "# print(type(in7))"
   ]
  },
  {
   "cell_type": "code",
   "execution_count": 7,
   "id": "1196dafc",
   "metadata": {},
   "outputs": [],
   "source": [
    "fc = geemap.geopandas_to_ee(in7)\n",
    "# print(type(fc))"
   ]
  },
  {
   "cell_type": "code",
   "execution_count": 8,
   "id": "202f7dda",
   "metadata": {},
   "outputs": [],
   "source": [
    "roi=fc.geometry()\n",
    "# print(type(roi))"
   ]
  },
  {
   "cell_type": "code",
   "execution_count": null,
   "id": "3e63dd34",
   "metadata": {},
   "outputs": [],
   "source": [
    "# Adding LULC map on Basemap"
   ]
  },
  {
   "cell_type": "code",
   "execution_count": 9,
   "id": "93e7b748",
   "metadata": {},
   "outputs": [],
   "source": [
    "Esri_lulc=ee.ImageCollection(\"projects/sat-io/open-datasets/landcover/ESRI_Global-LULC_10m\")"
   ]
  },
  {
   "cell_type": "code",
   "execution_count": 10,
   "id": "81954677",
   "metadata": {},
   "outputs": [],
   "source": [
    "vis_params1={'min':1,'max':10,'palette':[\"#1A5BAB\",\n",
    "    \"#358221\",\n",
    "    \"#A7D282\",\n",
    "    \"#87D19E\",\n",
    "    \"#FFDB5C\",\n",
    "    \"#EECFA8\",\n",
    "    \"#ED022A\",\n",
    "    \"#EDE9E4\",\n",
    "    \"#F2FAFF\",\n",
    "    \"#C8C8C8\"]}\n",
    "\n",
    "legend_dict = {\n",
    "    '1 Open Water': '1A5BAB',\n",
    "    '2 Trees': '358221',\n",
    "    '3 Grass': 'A7D282',\n",
    "    '4 Flooded Vegetation': '87D19E',\n",
    "    '5 Crops': 'FFDB5C',\n",
    "    '6 Shrub': 'EECFA8',\n",
    "    '7 BuiltupArea': 'ED022A',\n",
    "    '8 BareGround': 'EDE9E4',\n",
    "    '9 Snow/Ice': 'F2FAFF',\n",
    "    '10 Cloud': 'C8C8C8',\n",
    "}\n"
   ]
  },
  {
   "cell_type": "code",
   "execution_count": 11,
   "id": "f4e64e0c",
   "metadata": {},
   "outputs": [],
   "source": [
    "Map.addLayer(Esri_lulc,vis_params1,name='Esri_lulc')"
   ]
  },
  {
   "cell_type": "code",
   "execution_count": 12,
   "id": "ced8e35a",
   "metadata": {},
   "outputs": [],
   "source": [
    "vis_params = {\n",
    "'min': 0,\n",
    "'max': 1,\n",
    "'palette': [ 'FFFFFF', 'CE7E45', 'DF923D', 'F1B555', 'FCD163', '99B718', '74A901','66A000', '529400', '3E8601', '207401', '056201', '004C00', '023B01',\n",
    "          '012E01', '011D01', '011301']}\n",
    "colors = vis_params['palette']\n",
    "vmin = vis_params['min']\n",
    "vmax = vis_params['max']"
   ]
  },
  {
   "cell_type": "code",
   "execution_count": null,
   "id": "e544908e",
   "metadata": {},
   "outputs": [],
   "source": [
    "Adding NDVI Map on Basemap"
   ]
  },
  {
   "cell_type": "code",
   "execution_count": 13,
   "id": "7d7b98ec",
   "metadata": {},
   "outputs": [],
   "source": [
    "ndvi_7 = ee.Image(\"LANDSAT/LC08/C01/T1_32DAY_NDVI/20200711\")\n",
    "ndvi_8 = ee.Image(\"LANDSAT/LC08/C01/T1_32DAY_NDVI/20200812\")\n",
    "ndvi_9 = ee.Image(\"LANDSAT/LC08/C01/T1_32DAY_NDVI/20200913\")\n",
    "ndvi_10 = ee.Image(\"LANDSAT/LC08/C01/T1_32DAY_NDVI/20201015\")\n",
    "ndvi_11 = ee.Image(\"LANDSAT/LC08/C01/T1_32DAY_NDVI/20201116\")\n",
    "ndvi_12 = ee.Image(\"LANDSAT/LC08/C01/T1_32DAY_NDVI/20201218\")\n",
    "\n",
    "\n",
    "Map.addLayer(ndvi_7,vis_params,name='ndvi_july')\n",
    "Map.addLayer(ndvi_8 ,vis_params,name='ndvi_aug ')\n",
    "Map.addLayer(ndvi_9,vis_params,name='ndvi_sept')\n",
    "Map.addLayer(ndvi_10,vis_params,name='ndvi_oct')\n",
    "Map.addLayer(ndvi_11,vis_params,name='ndvi_nov')\n",
    "Map.addLayer(ndvi_12,vis_params,name='ndvi_dec')\n"
   ]
  },
  {
   "cell_type": "code",
   "execution_count": 14,
   "id": "d9a7b0d1",
   "metadata": {},
   "outputs": [],
   "source": [
    "ndvi7 = ee.Image(\"LANDSAT/LC08/C01/T1_32DAY_NDVI/20200711\").clip(roi)\n",
    "ndvi8 = ee.Image(\"LANDSAT/LC08/C01/T1_32DAY_NDVI/20200812\").clip(roi)\n",
    "ndvi9 = ee.Image(\"LANDSAT/LC08/C01/T1_32DAY_NDVI/20200913\").clip(roi)\n",
    "ndvi10 = ee.Image(\"LANDSAT/LC08/C01/T1_32DAY_NDVI/20201015\").clip(roi)\n",
    "ndvi11 = ee.Image(\"LANDSAT/LC08/C01/T1_32DAY_NDVI/20201116\").clip(roi)\n",
    "ndvi12 = ee.Image(\"LANDSAT/LC08/C01/T1_32DAY_NDVI/20201218\").clip(roi)\n",
    "\n",
    "Map.addLayer(ndvi7,vis_params,name='ndvi_july_clipped')\n",
    "Map.addLayer(ndvi8 ,vis_params,name='ndvi_aug_clipped ')\n",
    "Map.addLayer(ndvi9,vis_params,name='ndvi_sept_clipped')\n",
    "Map.addLayer(ndvi10,vis_params,name='ndvi_oct_clipped')\n",
    "Map.addLayer(ndvi11,vis_params,name='ndvi_nov_clipped')\n",
    "Map.addLayer(ndvi12,vis_params,name='ndvi_dec_clipped')\n"
   ]
  },
  {
   "cell_type": "code",
   "execution_count": 15,
   "id": "a0856102",
   "metadata": {},
   "outputs": [
    {
     "name": "stdout",
     "output_type": "stream",
     "text": [
      "visualization of NDVI & LULC\n"
     ]
    }
   ],
   "source": [
    "# print('visualization of NDVI & LULC')"
   ]
  },
  {
   "cell_type": "code",
   "execution_count": 16,
   "id": "ab330aee",
   "metadata": {},
   "outputs": [
    {
     "data": {
      "application/vnd.jupyter.widget-view+json": {
       "model_id": "3dd7c0a2119a409d98991f893a3baf71",
       "version_major": 2,
       "version_minor": 0
      },
      "text/plain": [
       "Map(center=[30, 78], controls=(WidgetControl(options=['position', 'transparent_bg'], widget=HBox(children=(Tog…"
      ]
     },
     "metadata": {},
     "output_type": "display_data"
    }
   ],
   "source": [
    "Map.add_colorbar_branca(colors=colors, vmin=vmin, vmax=vmax, categorical=True, step=8,layer_name=\"ndvi\",position='bottomleft')\n",
    "Map.add_legend(legend_title=\"LULC2020\", legend_dict=legend_dict,position='bottomright')\n",
    "Map"
   ]
  },
  {
   "cell_type": "code",
   "execution_count": 17,
   "id": "2340cd29",
   "metadata": {},
   "outputs": [],
   "source": []
  },
  {
   "cell_type": "code",
   "execution_count": null,
   "id": "f5c2d701",
   "metadata": {},
   "outputs": [],
   "source": [
    "# Creating a time lapse visualization of NDVI"
   ]
  },
  {
   "cell_type": "code",
   "execution_count": 18,
   "id": "fa0dc7fc",
   "metadata": {},
   "outputs": [],
   "source": [
    "Map1=geemap.Map(center=[30,78],zoom=5)"
   ]
  },
  {
   "cell_type": "code",
   "execution_count": 19,
   "id": "e9595e90",
   "metadata": {},
   "outputs": [],
   "source": [
    "ndvi_series = ee.ImageCollection([ndvi_7,ndvi_8,ndvi_9,ndvi_10,ndvi_11,ndvi_12])"
   ]
  },
  {
   "cell_type": "code",
   "execution_count": 20,
   "id": "f82fcfee",
   "metadata": {},
   "outputs": [],
   "source": [
    "layer_names = ['2019_NDVI_month ' + str(months) for months in range(7, 13,1)]"
   ]
  },
  {
   "cell_type": "code",
   "execution_count": 21,
   "id": "e8da0820",
   "metadata": {},
   "outputs": [],
   "source": [
    "Map1.ts_inspector(left_ts=ndvi_series, right_ts=ndvi_series, left_names=layer_names, right_names=layer_names, left_vis=vis_params, right_vis=vis_params)"
   ]
  },
  {
   "cell_type": "code",
   "execution_count": 22,
   "id": "31b1234e",
   "metadata": {},
   "outputs": [
    {
     "name": "stdout",
     "output_type": "stream",
     "text": [
      "visualization of temporal changes in NDVI\n"
     ]
    }
   ],
   "source": [
    "# print('visualization of temporal changes in NDVI')"
   ]
  },
  {
   "cell_type": "code",
   "execution_count": 23,
   "id": "6fd093ad",
   "metadata": {},
   "outputs": [
    {
     "data": {
      "application/vnd.jupyter.widget-view+json": {
       "model_id": "d4af539301124c9ab0b1813604ed7e9b",
       "version_major": 2,
       "version_minor": 0
      },
      "text/plain": [
       "Map(center=[30, 78], controls=(WidgetControl(options=['position', 'transparent_bg'], widget=Dropdown(layout=La…"
      ]
     },
     "metadata": {},
     "output_type": "display_data"
    }
   ],
   "source": [
    "Map1"
   ]
  },
  {
   "cell_type": "code",
   "execution_count": 24,
   "id": "37581896",
   "metadata": {},
   "outputs": [
    {
     "name": "stdout",
     "output_type": "stream",
     "text": [
      "Histogram of NDVI\n"
     ]
    }
   ],
   "source": [
    "# saving the NDVI Raster layer"
   ]
  },
  {
   "cell_type": "code",
   "execution_count": null,
   "id": "015cab3e",
   "metadata": {},
   "outputs": [],
   "source": [
    "geemap.ee_export_image(image10, filename='C:/Users/udayk/Downloads/ndvi_320.tif', scale=90, region=roi,file_per_band=False)"
   ]
  },
  {
   "cell_type": "code",
   "execution_count": null,
   "id": "ddd6a602",
   "metadata": {},
   "outputs": [],
   "source": [
    "geemap.ee_export_image(image7, filename='C:/Users/udayk/Downloads/ndvi_224.tif', scale=90, region=roi,file_per_band=False)"
   ]
  },
  {
   "cell_type": "code",
   "execution_count": null,
   "id": "c78c8b4e",
   "metadata": {},
   "outputs": [],
   "source": [
    "geemap.ee_export_image(image8, filename='C:/Users/udayk/Downloads/ndvi_256.tif', scale=90, region=roi,file_per_band=False)"
   ]
  },
  {
   "cell_type": "code",
   "execution_count": null,
   "id": "7d8a81cc",
   "metadata": {},
   "outputs": [],
   "source": [
    "geemap.ee_export_image(image9, filename='C:/Users/udayk/Downloads/ndvi_288.tif', scale=90, region=roi,file_per_band=False)"
   ]
  },
  {
   "cell_type": "code",
   "execution_count": null,
   "id": "09408467",
   "metadata": {},
   "outputs": [],
   "source": [
    "geemap.ee_export_image(image11, filename='C:/Users/udayk/Downloads/ndvi_352.tif', scale=90, region=roi,file_per_band=False)"
   ]
  },
  {
   "cell_type": "code",
   "execution_count": null,
   "id": "ac8e65a8",
   "metadata": {},
   "outputs": [],
   "source": [
    "geemap.ee_export_image(image12, filename='C:/Users/udayk/Downloads/ndvi_384.tif', scale=90, region=roi,file_per_band=False)"
   ]
  },
  {
   "cell_type": "code",
   "execution_count": 26,
   "id": "283fbc6f",
   "metadata": {},
   "outputs": [],
   "source": [
    "# projecting raster layer from GCS TO PCS"
   ]
  },
  {
   "cell_type": "code",
   "execution_count": null,
   "id": "8c9b2a54",
   "metadata": {},
   "outputs": [],
   "source": [
    "def WGSTOUTM(src_filename,dst_filename):\n",
    "    src_DS=gdal.Open(src_filename)\n",
    "    dst_DS=gdal.Warp(dst_filename,src_DS,dstSRS='EPSG:32642')\n",
    "    dst_DS=None\n",
    "    src_DS=None \n",
    "    \n",
    "WGSTOUTM('ndvi_224.tif','ndvi_224_reproject.tif')\n",
    "WGSTOUTM('ndvi_256.tif','ndvi_256_reproject.tif')\n",
    "WGSTOUTM('ndvi_288.tif','ndvi_288_reproject.tif')\n",
    "WGSTOUTM('ndvi_320.tif','ndvi_320_reproject.tif')\n",
    "WGSTOUTM('ndvi_352.tif','ndvi_352_reproject.tif')\n",
    "WGSTOUTM('ndvi_384.tif','ndvi_384_reproject.tif')"
   ]
  },
  {
   "cell_type": "code",
   "execution_count": null,
   "id": "b1c31578",
   "metadata": {},
   "outputs": [],
   "source": [
    "#Converting raaster tiff format to PCRASTER format for spatial analysis"
   ]
  },
  {
   "cell_type": "code",
   "execution_count": null,
   "id": "5f0d9981",
   "metadata": {},
   "outputs": [],
   "source": [
    "from osgeo import gdal\n",
    "from pcraster import *\n",
    "from osgeo import gdal, gdalconst\n",
    "\n",
    "def ConvertToPCRaster(src_filename,dst_filename,ot,VS):\n",
    "    #Open existing dataset\n",
    "    src_ds = gdal.Open(src_filename)\n",
    "    \n",
    "    #GDAL Translate\n",
    "    dst_ds = gdal.Translate(dst_filename, src_ds, format='PCRaster', outputType=ot, metadataOptions=VS)\n",
    "    \n",
    "    #Properly close the datasets to flush to disk\n",
    "    dst_ds = None\n",
    "    src_ds = None\n",
    "    \n",
    "ConvertToPCRaster(\"ndvi_224_reproject.tif\",\"ndvi_224_reproject.map\",gdalconst.GDT_Float32,\"VS_SCALAR\")\n",
    "ConvertToPCRaster(\"ndvi_256_reproject.tif\",\"ndvi_256_reproject.map\",gdalconst.GDT_Float32,\"VS_SCALAR\")\n",
    "ConvertToPCRaster(\"ndvi_288_reproject.tif\",\"ndvi_288_reproject.map\",gdalconst.GDT_Float32,\"VS_SCALAR\")\n",
    "ConvertToPCRaster(\"ndvi_320_reproject.tif\",\"ndvi_320_reproject.map\",gdalconst.GDT_Float32,\"VS_SCALAR\")\n",
    "ConvertToPCRaster(\"ndvi_352_reproject.tif\",\"ndvi_352_reproject.map\",gdalconst.GDT_Float32,\"VS_SCALAR\")\n",
    "ConvertToPCRaster(\"ndvi_384_reproject.tif\",\"ndvi_384_reproject.map\",gdalconst.GDT_Float32,\"VS_SCALAR\")"
   ]
  },
  {
   "cell_type": "code",
   "execution_count": 28,
   "id": "4fe16122",
   "metadata": {},
   "outputs": [],
   "source": [
    "# Checking metadata of raster layers"
   ]
  },
  {
   "cell_type": "code",
   "execution_count": null,
   "id": "d7fde2d9",
   "metadata": {},
   "outputs": [],
   "source": [
    "\n",
    "def RasterLayerProperties(RasterLayer):\n",
    "    print(\"Raster file: {}\".format(RasterLayer.GetDescription()))\n",
    "    print(\"Driver: {}/{}\".format(RasterLayer.GetDriver().ShortName,\n",
    "                            RasterLayer.GetDriver().LongName))\n",
    "    print(\"Size is {} x {} x {}\".format(RasterLayer.RasterXSize,\n",
    "                                    RasterLayer.RasterYSize,\n",
    "                                    RasterLayer.RasterCount))\n",
    "    RasterLayerProjection = RasterLayer.GetProjection()\n",
    "    crs = pycrs.parse.from_ogc_wkt(RasterLayerProjection)\n",
    "    print(\"Projection:\",crs.name)\n",
    "#   print(\"Map units:\",crs.unit.unitname.ogc_wkt)\n",
    "    geotransform = RasterLayer.GetGeoTransform()\n",
    "    if geotransform:\n",
    "        print(\"Origin = ({}, {})\".format(geotransform[0], geotransform[3]))\n",
    "        print(\"Pixel Size = ({} metre , {} metre)\".format(geotransform[1], geotransform[5]))\n",
    "    RasterLayerBand = RasterLayer.GetRasterBand(1)\n",
    "    print(\"Minimum: {}\".format(RasterLayerBand.GetMinimum()))\n",
    "    print(\"Maximum: {}\".format(RasterLayerBand.GetMaximum()))\n",
    "    \n",
    "    print()\n",
    "    RasterLayer = None\n",
    "    \n",
    "    \n",
    "Layer7 = gdal.Open( \"ndvi_224_reproject.map\" )\n",
    "RasterLayerProperties(Layer7)\n",
    "\n",
    "Layer8 = gdal.Open( \"ndvi_256_reproject.map\" )\n",
    "RasterLayerProperties(Layer8)\n",
    "\n",
    "Layer9 = gdal.Open( \"ndvi_288_reproject.map\" )\n",
    "RasterLayerProperties(Layer9)\n",
    "\n",
    "Layer10 = gdal.Open( \"ndvi_320_reproject.map\" )\n",
    "RasterLayerProperties(Layer10)\n",
    "\n",
    "Layer11 = gdal.Open( \"ndvi_352_reproject.map\" )\n",
    "RasterLayerProperties(Layer11)\n",
    "\n",
    "Layer12 = gdal.Open( \"ndvi_384_reproject.map\" )\n",
    "RasterLayerProperties(Layer12)"
   ]
  },
  {
   "cell_type": "code",
   "execution_count": null,
   "id": "d1d2fa60",
   "metadata": {},
   "outputs": [],
   "source": [
    "# Calulating histogram of NDVI"
   ]
  },
  {
   "cell_type": "code",
   "execution_count": null,
   "id": "e5e91c06",
   "metadata": {},
   "outputs": [],
   "source": [
    "print('Histogram of NDVI')"
   ]
  },
  {
   "cell_type": "code",
   "execution_count": 25,
   "id": "e58ac3c1",
   "metadata": {},
   "outputs": [
    {
     "data": {
      "image/png": "[encoded data removed]",
      "text/plain": [
       "<Figure size 1440x1584 with 1 Axes>"
      ]
     },
     "metadata": {
      "needs_background": "light"
     },
     "output_type": "display_data"
    },
    {
     "data": {
      "image/png": "[encoded data removed]",
      "text/plain": [
       "<Figure size 1440x1584 with 1 Axes>"
      ]
     },
     "metadata": {
      "needs_background": "light"
     },
     "output_type": "display_data"
    },
    {
     "data": {
      "image/png": "[encoded data removed]",
      "text/plain": [
       "<Figure size 1440x1584 with 1 Axes>"
      ]
     },
     "metadata": {
      "needs_background": "light"
     },
     "output_type": "display_data"
    },
    {
     "data": {
      "image/png": "[encoded data removed]",
      "text/plain": [
       "<Figure size 1440x1584 with 1 Axes>"
      ]
     },
     "metadata": {
      "needs_background": "light"
     },
     "output_type": "display_data"
    },
    {
     "data": {
      "image/png": "[encoded data removed]",
      "text/plain": [
       "<Figure size 1440x1584 with 1 Axes>"
      ]
     },
     "metadata": {
      "needs_background": "light"
     },
     "output_type": "display_data"
    },
    {
     "data": {
      "image/png": "[encoded data removed]",
      "text/plain": [
       "<Figure size 1440x1584 with 1 Axes>"
      ]
     },
     "metadata": {
      "needs_background": "light"
     },
     "output_type": "display_data"
    }
   ],
   "source": [
    "%matplotlib inline\n",
    "def ndviplot(dataset,name):\n",
    " \n",
    " dataset1=dataset.read(1)\n",
    "#  print(dataset1)\n",
    "#  print(type(dataset1))\n",
    "#  print(dataset.width)\n",
    "#  print(dataset.height)\n",
    "#  n_bins = 5\n",
    " legend=['NDVI_'+name]\n",
    " fig, ax = plt.subplots(figsize =(20,22))\n",
    " plt.hist(dataset1,bins=[-0.15,-0.1,0.0,0.1,0.15,0.20,0.25,0.3,0.35,0.4,0.5])\n",
    " plt.xlabel(\"ndvi_value\")\n",
    " plt.ylabel(\"no of pixels\")\n",
    " plt.legend(legend)\n",
    " plt.title('Histogram_Plot_of_NDVI')\n",
    " plt.tight_layout\n",
    " plt.show() \n",
    "\n",
    "in7=rasterio.open('https://github.com/UdayKumar0711/cropinsure/blob/main/ndvi_224_reproject.tif?raw=true')\n",
    "\n",
    "in8=rasterio.open('https://github.com/UdayKumar0711/cropinsure/blob/main/ndvi_256_reproject.tif?raw=true')\n",
    "in9=rasterio.open('https://github.com/UdayKumar0711/cropinsure/blob/main/ndvi_288_reproject.tif?raw=true')\n",
    "in10=rasterio.open('https://github.com/UdayKumar0711/cropinsure/blob/main/ndvi_320_reproject.tif?raw=true')\n",
    "in11=rasterio.open('https://github.com/UdayKumar0711/cropinsure/blob/main/ndvi_352_reproject.tif?raw=true')\n",
    "in12=rasterio.open('https://github.com/UdayKumar0711/cropinsure/blob/main/ndvi_384_reproject.tif?raw=true')\n",
    "ndviplot(in7,'July')\n",
    "ndviplot(in8,'August')\n",
    "ndviplot(in9,'Sept')\n",
    "ndviplot(in10,'Oct')\n",
    "ndviplot(in11,'Nov')\n",
    "ndviplot(in12,'Dec')"
   ]
  },
  {
   "cell_type": "code",
   "execution_count": 29,
   "id": "90426b2b",
   "metadata": {},
   "outputs": [],
   "source": [
    "# Plotting interactive Histogram of NDVI"
   ]
  },
  {
   "cell_type": "code",
   "execution_count": null,
   "id": "0c6de27a",
   "metadata": {},
   "outputs": [],
   "source": [
    "import plotly.express as px\n",
    "import rasterio\n",
    "from matplotlib import pyplot as plt\n",
    "import numpy as np\n",
    "\n",
    "def plot(data_set,name):\n",
    " data_set1=data_set.read(1)\n",
    "\n",
    " fig = px.histogram(data_set1, \n",
    "                   title='Histogram of ndvi'+name,\n",
    "                   \n",
    "                   opacity=0.8,\n",
    "                   \n",
    "                   color_discrete_sequence=['indianred'] \n",
    "                   )\n",
    " fig.show()\n",
    "    \n",
    "in_7=rasterio.open('C:/Users/udayk/Downloads/ndvi_224_reproject.tif')\n",
    "in8_=rasterio.open('C:/Users/udayk/Downloads/ndvi_256_reproject.tif')\n",
    "in9_=rasterio.open('C:/Users/udayk/Downloads/ndvi_288_reproject.tif')\n",
    "in10_=rasterio.open('C:/Users/udayk/Downloads/ndvi_320_reproject.tif')\n",
    "in11_=rasterio.open('C:/Users/udayk/Downloads/ndvi_352_reproject.tif')\n",
    "in12_=rasterio.open('C:/Users/udayk/Downloads/ndvi_384_reproject.tif')\n",
    "plot(in_7,'July')\n",
    "plot(in8_,'Aug')\n",
    "plot(in9_,'Sept')\n",
    "plot(in10_,'Oct')\n",
    "plot(in11_,'Nov')\n",
    "plot(in12_,'Dec')"
   ]
  },
  {
   "cell_type": "code",
   "execution_count": 30,
   "id": "4b1a59ef",
   "metadata": {},
   "outputs": [],
   "source": [
    "# Visualizing the NDVI Raster layers"
   ]
  },
  {
   "cell_type": "code",
   "execution_count": null,
   "id": "f4d726a8",
   "metadata": {},
   "outputs": [],
   "source": [
    " plot(Layer7,labels=None,title='NDVI_july',filename=None)"
   ]
  },
  {
   "cell_type": "code",
   "execution_count": null,
   "id": "696bd719",
   "metadata": {},
   "outputs": [],
   "source": [
    " plot(Layer8,labels=None,title='NDVI_aug',filename=None)"
   ]
  },
  {
   "cell_type": "code",
   "execution_count": null,
   "id": "8aaa4be3",
   "metadata": {},
   "outputs": [],
   "source": [
    "plot(Layer9,labels=None,title='NDVI_sept',filename=None)"
   ]
  },
  {
   "cell_type": "code",
   "execution_count": null,
   "id": "124a6d31",
   "metadata": {},
   "outputs": [],
   "source": [
    " plot(Layer10,labels=None,title='NDVI_oct',filename=None)"
   ]
  },
  {
   "cell_type": "code",
   "execution_count": null,
   "id": "aa76a6d2",
   "metadata": {},
   "outputs": [],
   "source": [
    "plot(Layer11,labels=None,title='NDVI_nov',filename=None)"
   ]
  },
  {
   "cell_type": "code",
   "execution_count": null,
   "id": "dc424fa4",
   "metadata": {},
   "outputs": [],
   "source": [
    "plot(Layer12,labels=None,title='NDVI_dec',filename=None)"
   ]
  },
  {
   "cell_type": "code",
   "execution_count": 31,
   "id": "2bd381fc",
   "metadata": {},
   "outputs": [],
   "source": [
    "# Spatial analysis for calculating vegetaion area "
   ]
  },
  {
   "cell_type": "code",
   "execution_count": null,
   "id": "5ac9300e",
   "metadata": {},
   "outputs": [],
   "source": [
    "Layer9_bool=Layer9>=0.25"
   ]
  },
  {
   "cell_type": "code",
   "execution_count": null,
   "id": "9f2ca7b9",
   "metadata": {},
   "outputs": [],
   "source": [
    "plot(Layer9_bool,labels={1:'vegetative area',0:'Non-vegetative area'},title='NDVI_224_classified',filename=None)"
   ]
  },
  {
   "cell_type": "code",
   "execution_count": null,
   "id": "0a2734c5",
   "metadata": {},
   "outputs": [],
   "source": [
    "report(Layer9_bool, 'C:/Users/udayk/Downloads/ndvi_288_reproj_class.map')"
   ]
  },
  {
   "cell_type": "code",
   "execution_count": null,
   "id": "ed3a3107",
   "metadata": {},
   "outputs": [],
   "source": [
    "import numpy as np\n",
    "import rasterio\n",
    "w=rasterio.open('C:/Users/udayk/Downloads/ndvi_288_reproj_class.map')\n",
    "x=w.read(1)\n",
    "\n",
    "Layer9_bool = gdal.Open( \"ndvi_288_reproject.map\" )\n",
    "pix_size=Layer9_bool.GetGeoTransform(1)\n",
    "pixel_size=pix_size[1]\n",
    "print(pixel_size)\n",
    "\n",
    "\n",
    "# counting the number of pixels\n",
    "number_of_white_pix = np.sum(x == 1)\n",
    "number_of_black_pix = np.sum(x== 0)\n",
    "  \n",
    "print('Number of vegetation pixels:', number_of_white_pix)\n",
    "print('Number of non-vegetation pixels:', number_of_black_pix)\n",
    "\n",
    "vegetation_area=((number_of_white_pix*pixel_size*pixel_size)/1000000)\n",
    "print('total area of vegetation=',vegetation_area)"
   ]
  }
 ],
 "metadata": {
  "hide_input": false,
  "kernelspec": {
   "display_name": "Python 3",
   "language": "python",
   "name": "python3"
  },
  "language_info": {
   "codemirror_mode": {
    "name": "ipython",
    "version": 3
   },
   "file_extension": ".py",
   "mimetype": "text/x-python",
   "name": "python",
   "nbconvert_exporter": "python",
   "pygments_lexer": "ipython3",
   "version": "3.7.10"
  },
  "latex_envs": {
   "LaTeX_envs_menu_present": true,
   "autoclose": false,
   "autocomplete": true,
   "bibliofile": "biblio.bib",
   "cite_by": "apalike",
   "current_citInitial": 1,
   "eqLabelWithNumbers": true,
   "eqNumInitial": 1,
   "hotkeys": {
    "equation": "Ctrl-E",
    "itemize": "Ctrl-I"
   },
   "labels_anchors": false,
   "latex_user_defs": false,
   "report_style_numbering": false,
   "user_envs_cfg": false
  },
  "toc": {
   "base_numbering": 1,
   "nav_menu": {},
   "number_sections": true,
   "sideBar": true,
   "skip_h1_title": false,
   "title_cell": "Table of Contents",
   "title_sidebar": "Contents",
   "toc_cell": false,
   "toc_position": {},
   "toc_section_display": true,
   "toc_window_display": false
  }
 },
 "nbformat": 4,
 "nbformat_minor": 5
}
