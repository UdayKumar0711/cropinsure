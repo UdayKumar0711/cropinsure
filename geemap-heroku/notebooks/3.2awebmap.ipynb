{
 "cells": [
  {
   "cell_type": "code",
   "execution_count": 3,
   "id": "0eae0152",
   "metadata": {},
   "outputs": [],
   "source": [
    "import ee\n",
    "import geemap\n",
    "import json\n",
    "from geemap import geojson_to_ee, ee_to_geojson\n",
    "from ipyleaflet import GeoJSON\n",
    "import requests\n"
   ]
  },
  {
   "cell_type": "code",
   "execution_count": null,
   "id": "236d4b88",
   "metadata": {},
   "outputs": [],
   "source": [
    "Map=geemap.Map(center=[30,78],zoom=5)\n"
   ]
  },
  {
   "cell_type": "code",
   "execution_count": 4,
   "id": "04c2df5e",
   "metadata": {},
   "outputs": [],
   "source": [
    "file_path = ('C:/Users/udayk/Downloads/parewar.geojson')\n",
    "Map=geemap.Map(center=[30,78],zoom=5)\n",
    "\n",
    "if not (file_path):\n",
    "    url = 'https://raw.githubusercontent.com/UdayKumar0711/wells/main/parewar.geojson'\n",
    "    r = requests.get(url)\n",
    "    with open(file_path, 'w') as f:\n",
    "        f.write(r.content.decode(\"utf-8\"))        \n",
    "\n",
    "with open(file_path) as f:\n",
    "    json_data = json.load(f)"
   ]
  },
  {
   "cell_type": "code",
   "execution_count": null,
   "id": "7d80629f",
   "metadata": {},
   "outputs": [],
   "source": [
    "region_json_layer = GeoJSON(data=json_data, name='region_json_layer', hover_style={'fillColor': 'red' , 'fillOpacity': 0.0})\n",
    "Map.add_layer(region_json_layer)"
   ]
  },
  {
   "cell_type": "code",
   "execution_count": null,
   "id": "320828c6",
   "metadata": {},
   "outputs": [],
   "source": [
    "region_ee_data = geojson_to_ee(json_data)\n",
    "Map.addLayer(region_ee_data, {}, \" region_ee_data\")\n",
    "# print(type(ee_data))"
   ]
  },
  {
   "cell_type": "code",
   "execution_count": null,
   "id": "4eafa8ac",
   "metadata": {},
   "outputs": [],
   "source": [
    "roi1=region_ee_data.geometry()\n",
    "# print(type(roi1))"
   ]
  },
  {
   "cell_type": "code",
   "execution_count": null,
   "id": "e51f474f",
   "metadata": {},
   "outputs": [],
   "source": [
    "Esri_lulc=ee.ImageCollection(\"projects/sat-io/open-datasets/landcover/ESRI_Global-LULC_10m\")\n"
   ]
  },
  {
   "cell_type": "code",
   "execution_count": null,
   "id": "1d50a0e6",
   "metadata": {},
   "outputs": [],
   "source": [
    "Esri_lulc_clipped=ee.ImageCollection(\"projects/sat-io/open-datasets/landcover/ESRI_Global-LULC_10m\").filterBounds(region_ee_data )\n"
   ]
  },
  {
   "cell_type": "code",
   "execution_count": null,
   "id": "443a16a8",
   "metadata": {},
   "outputs": [],
   "source": [
    "vis_params1={'min':1,'max':10,'palette':[\"#1A5BAB\",\n",
    "    \"#358221\",\n",
    "    \"#A7D282\",\n",
    "    \"#87D19E\",\n",
    "    \"#FFDB5C\",\n",
    "    \"#EECFA8\",\n",
    "    \"#ED022A\",\n",
    "    \"#EDE9E4\",\n",
    "    \"#F2FAFF\",\n",
    "    \"#C8C8C8\"]}"
   ]
  },
  {
   "cell_type": "code",
   "execution_count": null,
   "id": "ede8941f",
   "metadata": {},
   "outputs": [],
   "source": [
    "Map.addLayer(Esri_lulc,vis_params1,name='Esri_lulc')\n",
    "Map.addLayer(Esri_lulc_clipped,vis_params1,name='Esri_lulc_clipped')"
   ]
  },
  {
   "cell_type": "code",
   "execution_count": null,
   "id": "1d86c961",
   "metadata": {},
   "outputs": [],
   "source": [
    "vis_params = {\n",
    "'min': 0,\n",
    "'max': 1,\n",
    "'palette': [ 'FFFFFF', 'CE7E45', 'DF923D', 'F1B555', 'FCD163', '99B718', '74A901','66A000', '529400', '3E8601', '207401', '056201', '004C00', '023B01',\n",
    "          '012E01', '011D01', '011301']}\n",
    "colors = vis_params['palette']\n",
    "vmin = vis_params['min']\n",
    "vmax = vis_params['max']\n"
   ]
  },
  {
   "cell_type": "code",
   "execution_count": null,
   "id": "51861fe0",
   "metadata": {},
   "outputs": [],
   "source": [
    "\n",
    "ndvi_7 = ee.Image(\"LANDSAT/LC08/C01/T1_32DAY_NDVI/20200711\")\n",
    "ndvi_8 = ee.Image(\"LANDSAT/LC08/C01/T1_32DAY_NDVI/20200812\")\n",
    "ndvi_9 = ee.Image(\"LANDSAT/LC08/C01/T1_32DAY_NDVI/20200913\")\n",
    "ndvi_10 = ee.Image(\"LANDSAT/LC08/C01/T1_32DAY_NDVI/20201015\")\n",
    "ndvi_11 = ee.Image(\"LANDSAT/LC08/C01/T1_32DAY_NDVI/20201116\")\n",
    "ndvi_12 = ee.Image(\"LANDSAT/LC08/C01/T1_32DAY_NDVI/20201218\")\n",
    "\n",
    "\n",
    "Map.addLayer(ndvi_7,vis_params,name='ndvi_july')\n",
    "Map.addLayer(ndvi_8 ,vis_params,name='ndvi_aug ')\n",
    "Map.addLayer(ndvi_9,vis_params,name='ndvi_sept')\n",
    "Map.addLayer(ndvi_10,vis_params,name='ndvi_oct')\n",
    "Map.addLayer(ndvi_11,vis_params,name='ndvi_nov')\n",
    "Map.addLayer(ndvi_12,vis_params,name='ndvi_dec')\n",
    "\n",
    "\n"
   ]
  },
  {
   "cell_type": "code",
   "execution_count": null,
   "id": "2070c435",
   "metadata": {},
   "outputs": [],
   "source": [
    "ndvi_7_clipped = ee.Image(\"LANDSAT/LC08/C01/T1_32DAY_NDVI/20200711\").clip(region_ee_data )\n",
    "ndvi_8_clipped= ee.Image(\"LANDSAT/LC08/C01/T1_32DAY_NDVI/20200812\").clip(region_ee_data )\n",
    "ndvi_9_clipped = ee.Image(\"LANDSAT/LC08/C01/T1_32DAY_NDVI/20200913\").clip(region_ee_data )\n",
    "ndvi_10_clipped = ee.Image(\"LANDSAT/LC08/C01/T1_32DAY_NDVI/20201015\").clip(region_ee_data )\n",
    "ndvi_11_clipped = ee.Image(\"LANDSAT/LC08/C01/T1_32DAY_NDVI/20201116\").clip(region_ee_data )\n",
    "ndvi_12_clipped= ee.Image(\"LANDSAT/LC08/C01/T1_32DAY_NDVI/20201218\").clip(region_ee_data )\n",
    "\n",
    "Map.addLayer(ndvi_7_clipped,vis_params,name='ndvi_july_clipped')\n",
    "Map.addLayer(ndvi_8_clipped,vis_params,name='ndvi_aug_clipped')\n",
    "Map.addLayer(ndvi_9_clipped,vis_params,name='ndvi_sept_clipped')\n",
    "Map.addLayer(ndvi_10_clipped,vis_params,name='ndvi_oct_clipped')\n",
    "Map.addLayer(ndvi_11_clipped,vis_params,name='ndvi_nov_clipped')\n",
    "Map.addLayer(ndvi_12_clipped,vis_params,name='ndvi_dec_clipped')\n",
    "\n",
    "\n"
   ]
  },
  {
   "cell_type": "code",
   "execution_count": null,
   "id": "666c3fd5",
   "metadata": {},
   "outputs": [],
   "source": [
    "Map.add_colorbar_branca(colors=colors, vmin=vmin, vmax=vmax, categorical=True, step=8,layer_name=\"ndvi\",position='bottomleft')\n",
    "\n",
    "Map"
   ]
  }
 ],
 "metadata": {
  "hide_input": false,
  "kernelspec": {
   "display_name": "Python 3",
   "language": "python",
   "name": "python3"
  },
  "language_info": {
   "codemirror_mode": {
    "name": "ipython",
    "version": 3
   },
   "file_extension": ".py",
   "mimetype": "text/x-python",
   "name": "python",
   "nbconvert_exporter": "python",
   "pygments_lexer": "ipython3",
   "version": "3.7.10"
  },
  "latex_envs": {
   "LaTeX_envs_menu_present": true,
   "autoclose": false,
   "autocomplete": true,
   "bibliofile": "biblio.bib",
   "cite_by": "apalike",
   "current_citInitial": 1,
   "eqLabelWithNumbers": true,
   "eqNumInitial": 1,
   "hotkeys": {
    "equation": "Ctrl-E",
    "itemize": "Ctrl-I"
   },
   "labels_anchors": false,
   "latex_user_defs": false,
   "report_style_numbering": false,
   "user_envs_cfg": false
  },
  "toc": {
   "base_numbering": 1,
   "nav_menu": {},
   "number_sections": true,
   "sideBar": true,
   "skip_h1_title": false,
   "title_cell": "Table of Contents",
   "title_sidebar": "Contents",
   "toc_cell": false,
   "toc_position": {},
   "toc_section_display": true,
   "toc_window_display": false
  }
 },
 "nbformat": 4,
 "nbformat_minor": 5
}
