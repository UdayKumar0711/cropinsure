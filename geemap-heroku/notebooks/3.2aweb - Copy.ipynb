{
 "cells": [
  {
   "cell_type": "code",
   "execution_count": 31,
   "id": "a2ead9b0",
   "metadata": {},
   "outputs": [],
   "source": [
    "import ee\n",
    "import geemap\n",
    "import geopandas as gpd\n",
    "import rasterio\n",
    "from matplotlib import pyplot as plt\n",
    "import numpy as np\n",
    "from matplotlib import colors\n",
    "from matplotlib.ticker import PercentFormatter\n"
   ]
  },
  {
   "cell_type": "code",
   "execution_count": 8,
   "id": "f0c44455",
   "metadata": {},
   "outputs": [],
   "source": [
    "Map=geemap.Map(center=[30,78],zoom=5)"
   ]
  },
  {
   "cell_type": "code",
   "execution_count": 9,
   "id": "1b25446d",
   "metadata": {},
   "outputs": [],
   "source": [
    "in7=gpd.read_file('https://raw.githubusercontent.com/UdayKumar0711/wells/main/parewar.geojson')\n",
    "# print(type(in7))"
   ]
  },
  {
   "cell_type": "code",
   "execution_count": 10,
   "id": "8fe404af",
   "metadata": {},
   "outputs": [],
   "source": [
    "fc = geemap.geopandas_to_ee(in7)\n",
    "# print(type(fc))"
   ]
  },
  {
   "cell_type": "code",
   "execution_count": 11,
   "id": "72709e41",
   "metadata": {},
   "outputs": [],
   "source": [
    "roi=fc.geometry()\n",
    "# print(type(roi))"
   ]
  },
  {
   "cell_type": "code",
   "execution_count": 12,
   "id": "da81d926",
   "metadata": {},
   "outputs": [],
   "source": [
    "Esri_lulc=ee.ImageCollection(\"projects/sat-io/open-datasets/landcover/ESRI_Global-LULC_10m\")\n"
   ]
  },
  {
   "cell_type": "code",
   "execution_count": 13,
   "id": "e87d5813",
   "metadata": {},
   "outputs": [],
   "source": [
    "vis_params1={'min':1,'max':10,'palette':[\"#1A5BAB\",\n",
    "    \"#358221\",\n",
    "    \"#A7D282\",\n",
    "    \"#87D19E\",\n",
    "    \"#FFDB5C\",\n",
    "    \"#EECFA8\",\n",
    "    \"#ED022A\",\n",
    "    \"#EDE9E4\",\n",
    "    \"#F2FAFF\",\n",
    "    \"#C8C8C8\"]}\n",
    "\n",
    "legend_dict = {\n",
    "    '1 Open Water': '1A5BAB',\n",
    "    '2 Trees': '358221',\n",
    "    '3 Grass': 'A7D282',\n",
    "    '4 Flooded Vegetation': '87D19E',\n",
    "    '5 Crops': 'FFDB5C',\n",
    "    '6 Shrub': 'EECFA8',\n",
    "    '7 BuilupArea': 'ED022A',\n",
    "    '8 BareGround': 'EDE9E4',\n",
    "    '9 Snow/Ice': 'F2FAFF',\n",
    "    '10 Cloud': 'C8C8C8',\n",
    "}\n"
   ]
  },
  {
   "cell_type": "code",
   "execution_count": 14,
   "id": "deacd703",
   "metadata": {},
   "outputs": [],
   "source": [
    "Map.addLayer(Esri_lulc,vis_params1,name='Esri_lulc')"
   ]
  },
  {
   "cell_type": "code",
   "execution_count": 15,
   "id": "76982f8b",
   "metadata": {},
   "outputs": [],
   "source": [
    "vis_params = {\n",
    "'min': 0,\n",
    "'max': 1,\n",
    "'palette': [ 'FFFFFF', 'CE7E45', 'DF923D', 'F1B555', 'FCD163', '99B718', '74A901','66A000', '529400', '3E8601', '207401', '056201', '004C00', '023B01',\n",
    "          '012E01', '011D01', '011301']}\n",
    "colors = vis_params['palette']\n",
    "vmin = vis_params['min']\n",
    "vmax = vis_params['max']\n"
   ]
  },
  {
   "cell_type": "code",
   "execution_count": 16,
   "id": "5a6032d1",
   "metadata": {},
   "outputs": [],
   "source": [
    "\n",
    "ndvi_7 = ee.Image(\"LANDSAT/LC08/C01/T1_32DAY_NDVI/20200711\")\n",
    "ndvi_8 = ee.Image(\"LANDSAT/LC08/C01/T1_32DAY_NDVI/20200812\")\n",
    "ndvi_9 = ee.Image(\"LANDSAT/LC08/C01/T1_32DAY_NDVI/20200913\")\n",
    "ndvi_10 = ee.Image(\"LANDSAT/LC08/C01/T1_32DAY_NDVI/20201015\")\n",
    "ndvi_11 = ee.Image(\"LANDSAT/LC08/C01/T1_32DAY_NDVI/20201116\")\n",
    "ndvi_12 = ee.Image(\"LANDSAT/LC08/C01/T1_32DAY_NDVI/20201218\")\n",
    "\n",
    "\n",
    "Map.addLayer(ndvi_7,vis_params,name='ndvi_july')\n",
    "Map.addLayer(ndvi_8 ,vis_params,name='ndvi_aug ')\n",
    "Map.addLayer(ndvi_9,vis_params,name='ndvi_sept')\n",
    "Map.addLayer(ndvi_10,vis_params,name='ndvi_oct')\n",
    "Map.addLayer(ndvi_11,vis_params,name='ndvi_nov')\n",
    "Map.addLayer(ndvi_12,vis_params,name='ndvi_dec')\n"
   ]
  },
  {
   "cell_type": "code",
   "execution_count": 17,
   "id": "a12fe03d",
   "metadata": {},
   "outputs": [],
   "source": [
    "ndvi7 = ee.Image(\"LANDSAT/LC08/C01/T1_32DAY_NDVI/20200711\").clip(roi)\n",
    "ndvi8 = ee.Image(\"LANDSAT/LC08/C01/T1_32DAY_NDVI/20200812\").clip(roi)\n",
    "ndvi9 = ee.Image(\"LANDSAT/LC08/C01/T1_32DAY_NDVI/20200913\").clip(roi)\n",
    "ndvi10 = ee.Image(\"LANDSAT/LC08/C01/T1_32DAY_NDVI/20201015\").clip(roi)\n",
    "ndvi11 = ee.Image(\"LANDSAT/LC08/C01/T1_32DAY_NDVI/20201116\").clip(roi)\n",
    "ndvi12 = ee.Image(\"LANDSAT/LC08/C01/T1_32DAY_NDVI/20201218\").clip(roi)\n",
    "\n",
    "Map.addLayer(ndvi7,vis_params,name='ndvi_july_clipped')\n",
    "Map.addLayer(ndvi8 ,vis_params,name='ndvi_aug_clipped ')\n",
    "Map.addLayer(ndvi9,vis_params,name='ndvi_sept_clipped')\n",
    "Map.addLayer(ndvi10,vis_params,name='ndvi_oct_clipped')\n",
    "Map.addLayer(ndvi11,vis_params,name='ndvi_nov_clipped')\n",
    "Map.addLayer(ndvi12,vis_params,name='ndvi_dec_clipped')\n"
   ]
  },
  {
   "cell_type": "code",
   "execution_count": 18,
   "id": "9b49c11b",
   "metadata": {},
   "outputs": [
    {
     "name": "stdout",
     "output_type": "stream",
     "text": [
      "visualization of NDVI & LULC\n"
     ]
    }
   ],
   "source": [
    "print('visualization of NDVI & LULC')"
   ]
  },
  {
   "cell_type": "code",
   "execution_count": 19,
   "id": "c4750138",
   "metadata": {},
   "outputs": [
    {
     "data": {
      "application/vnd.jupyter.widget-view+json": {
       "model_id": "1db7f028f7e44ed4b303220d43c740f0",
       "version_major": 2,
       "version_minor": 0
      },
      "text/plain": [
       "Map(center=[30, 78], controls=(WidgetControl(options=['position', 'transparent_bg'], widget=HBox(children=(Tog…"
      ]
     },
     "metadata": {},
     "output_type": "display_data"
    }
   ],
   "source": [
    "Map.add_colorbar_branca(colors=colors, vmin=vmin, vmax=vmax, categorical=True, step=8,layer_name=\"ndvi\",position='bottomright')\n",
    "\n",
    "Map"
   ]
  },
  {
   "cell_type": "code",
   "execution_count": 20,
   "id": "25480151",
   "metadata": {},
   "outputs": [],
   "source": [
    "Map.add_legend(legend_title=\"LULC2020\", legend_dict=legend_dict,position='bottomleft')"
   ]
  },
  {
   "cell_type": "code",
   "execution_count": 21,
   "id": "cdb3438d",
   "metadata": {},
   "outputs": [],
   "source": [
    "Map1=geemap.Map(center=[30,78],zoom=5)"
   ]
  },
  {
   "cell_type": "code",
   "execution_count": 22,
   "id": "ad68e867",
   "metadata": {},
   "outputs": [],
   "source": [
    "ndvi_series = ee.ImageCollection([ndvi_7,ndvi_8,ndvi_9,ndvi_10,ndvi_11,ndvi_12])"
   ]
  },
  {
   "cell_type": "code",
   "execution_count": 23,
   "id": "9dfb89e2",
   "metadata": {},
   "outputs": [],
   "source": [
    "layer_names = ['2019_NDVI_month ' + str(months) for months in range(7, 13,1)]"
   ]
  },
  {
   "cell_type": "code",
   "execution_count": 24,
   "id": "18f065a6",
   "metadata": {},
   "outputs": [],
   "source": [
    "Map1.ts_inspector(left_ts=ndvi_series, right_ts=ndvi_series, left_names=layer_names, right_names=layer_names, left_vis=vis_params, right_vis=vis_params)"
   ]
  },
  {
   "cell_type": "code",
   "execution_count": 25,
   "id": "5440ccf3",
   "metadata": {},
   "outputs": [
    {
     "name": "stdout",
     "output_type": "stream",
     "text": [
      "visualization of temporal changes in NDVI\n"
     ]
    }
   ],
   "source": [
    "print('visualization of temporal changes in NDVI')"
   ]
  },
  {
   "cell_type": "code",
   "execution_count": 26,
   "id": "be465c6f",
   "metadata": {},
   "outputs": [
    {
     "data": {
      "application/vnd.jupyter.widget-view+json": {
       "model_id": "5e7cdfb85bd04105b2b1636f0f11cb14",
       "version_major": 2,
       "version_minor": 0
      },
      "text/plain": [
       "Map(center=[30, 78], controls=(WidgetControl(options=['position', 'transparent_bg'], widget=Dropdown(layout=La…"
      ]
     },
     "metadata": {},
     "output_type": "display_data"
    }
   ],
   "source": [
    "Map1"
   ]
  },
  {
   "cell_type": "code",
   "execution_count": 27,
   "id": "1ff2d770",
   "metadata": {},
   "outputs": [
    {
     "name": "stdout",
     "output_type": "stream",
     "text": [
      "Histogram of NDVI\n"
     ]
    }
   ],
   "source": [
    "print('Histogram of NDVI')"
   ]
  },
  {
   "cell_type": "code",
   "execution_count": 29,
   "id": "0db50ca8",
   "metadata": {},
   "outputs": [
    {
     "name": "stdout",
     "output_type": "stream",
     "text": [
      "<class 'ee.image.Image'>\n"
     ]
    }
   ],
   "source": [
    "print(type(ndvi7))"
   ]
  },
  {
   "cell_type": "code",
   "execution_count": 34,
   "id": "d12f00e0",
   "metadata": {},
   "outputs": [],
   "source": [
    "rgb_img = geemap.ee_to_numpy(ndvi7, region=roi)"
   ]
  },
  {
   "cell_type": "code",
   "execution_count": 37,
   "id": "e129f9fb",
   "metadata": {},
   "outputs": [
    {
     "name": "stdout",
     "output_type": "stream",
     "text": [
      "<class 'numpy.ndarray'>\n"
     ]
    }
   ],
   "source": [
    "print(type(rgb_img))"
   ]
  },
  {
   "cell_type": "code",
   "execution_count": 38,
   "id": "141519f7",
   "metadata": {},
   "outputs": [
    {
     "name": "stdout",
     "output_type": "stream",
     "text": [
      "[[[0.07058152]]]\n"
     ]
    }
   ],
   "source": [
    "print(rgb_img)"
   ]
  },
  {
   "cell_type": "code",
   "execution_count": 36,
   "id": "b8091239",
   "metadata": {},
   "outputs": [
    {
     "ename": "ValueError",
     "evalue": "x must have 2 or fewer dimensions",
     "output_type": "error",
     "traceback": [
      "\u001b[1;31m---------------------------------------------------------------------------\u001b[0m",
      "\u001b[1;31mValueError\u001b[0m                                Traceback (most recent call last)",
      "\u001b[1;32m<ipython-input-36-fbecc5fa8211>\u001b[0m in \u001b[0;36m<module>\u001b[1;34m\u001b[0m\n\u001b[0;32m      1\u001b[0m \u001b[0mfig\u001b[0m\u001b[1;33m,\u001b[0m \u001b[0max\u001b[0m \u001b[1;33m=\u001b[0m \u001b[0mplt\u001b[0m\u001b[1;33m.\u001b[0m\u001b[0msubplots\u001b[0m\u001b[1;33m(\u001b[0m\u001b[0mfigsize\u001b[0m \u001b[1;33m=\u001b[0m\u001b[1;33m(\u001b[0m\u001b[1;36m10\u001b[0m\u001b[1;33m,\u001b[0m \u001b[1;36m7\u001b[0m\u001b[1;33m)\u001b[0m\u001b[1;33m)\u001b[0m\u001b[1;33m\u001b[0m\u001b[1;33m\u001b[0m\u001b[0m\n\u001b[1;32m----> 2\u001b[1;33m \u001b[0mplt\u001b[0m\u001b[1;33m.\u001b[0m\u001b[0mhist\u001b[0m\u001b[1;33m(\u001b[0m\u001b[0mrgb_img\u001b[0m\u001b[1;33m,\u001b[0m\u001b[0mbins\u001b[0m\u001b[1;33m=\u001b[0m\u001b[1;33m[\u001b[0m\u001b[1;33m-\u001b[0m\u001b[1;36m0.2\u001b[0m\u001b[1;33m,\u001b[0m\u001b[1;33m-\u001b[0m\u001b[1;36m0.1\u001b[0m\u001b[1;33m,\u001b[0m\u001b[1;36m0.0\u001b[0m\u001b[1;33m,\u001b[0m\u001b[1;36m0.1\u001b[0m\u001b[1;33m,\u001b[0m\u001b[1;36m0.15\u001b[0m\u001b[1;33m,\u001b[0m\u001b[1;36m0.20\u001b[0m\u001b[1;33m,\u001b[0m\u001b[1;36m0.25\u001b[0m\u001b[1;33m,\u001b[0m\u001b[1;36m0.3\u001b[0m\u001b[1;33m,\u001b[0m\u001b[1;36m0.35\u001b[0m\u001b[1;33m,\u001b[0m\u001b[1;36m0.4\u001b[0m\u001b[1;33m,\u001b[0m\u001b[1;36m0.5\u001b[0m\u001b[1;33m,\u001b[0m\u001b[1;36m0.6\u001b[0m\u001b[1;33m]\u001b[0m\u001b[1;33m)\u001b[0m\u001b[1;33m\u001b[0m\u001b[1;33m\u001b[0m\u001b[0m\n\u001b[0m\u001b[0;32m      3\u001b[0m \u001b[0mplt\u001b[0m\u001b[1;33m.\u001b[0m\u001b[0mxlabel\u001b[0m\u001b[1;33m(\u001b[0m\u001b[1;34m\"ndvi_value\"\u001b[0m\u001b[1;33m)\u001b[0m\u001b[1;33m\u001b[0m\u001b[1;33m\u001b[0m\u001b[0m\n\u001b[0;32m      4\u001b[0m \u001b[0mplt\u001b[0m\u001b[1;33m.\u001b[0m\u001b[0mylabel\u001b[0m\u001b[1;33m(\u001b[0m\u001b[1;34m\"no of pixels\"\u001b[0m\u001b[1;33m)\u001b[0m\u001b[1;33m\u001b[0m\u001b[1;33m\u001b[0m\u001b[0m\n\u001b[0;32m      5\u001b[0m \u001b[0mplt\u001b[0m\u001b[1;33m.\u001b[0m\u001b[0mlegend\u001b[0m\u001b[1;33m(\u001b[0m\u001b[0mlegend\u001b[0m\u001b[1;33m)\u001b[0m\u001b[1;33m\u001b[0m\u001b[1;33m\u001b[0m\u001b[0m\n",
      "\u001b[1;32m~\\.conda\\envs\\tutorials\\lib\\site-packages\\matplotlib\\pyplot.py\u001b[0m in \u001b[0;36mhist\u001b[1;34m(x, bins, range, density, weights, cumulative, bottom, histtype, align, orientation, rwidth, log, color, label, stacked, data, **kwargs)\u001b[0m\n\u001b[0;32m   2672\u001b[0m         \u001b[0malign\u001b[0m\u001b[1;33m=\u001b[0m\u001b[0malign\u001b[0m\u001b[1;33m,\u001b[0m \u001b[0morientation\u001b[0m\u001b[1;33m=\u001b[0m\u001b[0morientation\u001b[0m\u001b[1;33m,\u001b[0m \u001b[0mrwidth\u001b[0m\u001b[1;33m=\u001b[0m\u001b[0mrwidth\u001b[0m\u001b[1;33m,\u001b[0m \u001b[0mlog\u001b[0m\u001b[1;33m=\u001b[0m\u001b[0mlog\u001b[0m\u001b[1;33m,\u001b[0m\u001b[1;33m\u001b[0m\u001b[1;33m\u001b[0m\u001b[0m\n\u001b[0;32m   2673\u001b[0m         \u001b[0mcolor\u001b[0m\u001b[1;33m=\u001b[0m\u001b[0mcolor\u001b[0m\u001b[1;33m,\u001b[0m \u001b[0mlabel\u001b[0m\u001b[1;33m=\u001b[0m\u001b[0mlabel\u001b[0m\u001b[1;33m,\u001b[0m \u001b[0mstacked\u001b[0m\u001b[1;33m=\u001b[0m\u001b[0mstacked\u001b[0m\u001b[1;33m,\u001b[0m\u001b[1;33m\u001b[0m\u001b[1;33m\u001b[0m\u001b[0m\n\u001b[1;32m-> 2674\u001b[1;33m         **({\"data\": data} if data is not None else {}), **kwargs)\n\u001b[0m\u001b[0;32m   2675\u001b[0m \u001b[1;33m\u001b[0m\u001b[0m\n\u001b[0;32m   2676\u001b[0m \u001b[1;33m\u001b[0m\u001b[0m\n",
      "\u001b[1;32m~\\.conda\\envs\\tutorials\\lib\\site-packages\\matplotlib\\__init__.py\u001b[0m in \u001b[0;36minner\u001b[1;34m(ax, data, *args, **kwargs)\u001b[0m\n\u001b[0;32m   1436\u001b[0m     \u001b[1;32mdef\u001b[0m \u001b[0minner\u001b[0m\u001b[1;33m(\u001b[0m\u001b[0max\u001b[0m\u001b[1;33m,\u001b[0m \u001b[1;33m*\u001b[0m\u001b[0margs\u001b[0m\u001b[1;33m,\u001b[0m \u001b[0mdata\u001b[0m\u001b[1;33m=\u001b[0m\u001b[1;32mNone\u001b[0m\u001b[1;33m,\u001b[0m \u001b[1;33m**\u001b[0m\u001b[0mkwargs\u001b[0m\u001b[1;33m)\u001b[0m\u001b[1;33m:\u001b[0m\u001b[1;33m\u001b[0m\u001b[1;33m\u001b[0m\u001b[0m\n\u001b[0;32m   1437\u001b[0m         \u001b[1;32mif\u001b[0m \u001b[0mdata\u001b[0m \u001b[1;32mis\u001b[0m \u001b[1;32mNone\u001b[0m\u001b[1;33m:\u001b[0m\u001b[1;33m\u001b[0m\u001b[1;33m\u001b[0m\u001b[0m\n\u001b[1;32m-> 1438\u001b[1;33m             \u001b[1;32mreturn\u001b[0m \u001b[0mfunc\u001b[0m\u001b[1;33m(\u001b[0m\u001b[0max\u001b[0m\u001b[1;33m,\u001b[0m \u001b[1;33m*\u001b[0m\u001b[0mmap\u001b[0m\u001b[1;33m(\u001b[0m\u001b[0msanitize_sequence\u001b[0m\u001b[1;33m,\u001b[0m \u001b[0margs\u001b[0m\u001b[1;33m)\u001b[0m\u001b[1;33m,\u001b[0m \u001b[1;33m**\u001b[0m\u001b[0mkwargs\u001b[0m\u001b[1;33m)\u001b[0m\u001b[1;33m\u001b[0m\u001b[1;33m\u001b[0m\u001b[0m\n\u001b[0m\u001b[0;32m   1439\u001b[0m \u001b[1;33m\u001b[0m\u001b[0m\n\u001b[0;32m   1440\u001b[0m         \u001b[0mbound\u001b[0m \u001b[1;33m=\u001b[0m \u001b[0mnew_sig\u001b[0m\u001b[1;33m.\u001b[0m\u001b[0mbind\u001b[0m\u001b[1;33m(\u001b[0m\u001b[0max\u001b[0m\u001b[1;33m,\u001b[0m \u001b[1;33m*\u001b[0m\u001b[0margs\u001b[0m\u001b[1;33m,\u001b[0m \u001b[1;33m**\u001b[0m\u001b[0mkwargs\u001b[0m\u001b[1;33m)\u001b[0m\u001b[1;33m\u001b[0m\u001b[1;33m\u001b[0m\u001b[0m\n",
      "\u001b[1;32m~\\.conda\\envs\\tutorials\\lib\\site-packages\\matplotlib\\axes\\_axes.py\u001b[0m in \u001b[0;36mhist\u001b[1;34m(self, x, bins, range, density, weights, cumulative, bottom, histtype, align, orientation, rwidth, log, color, label, stacked, **kwargs)\u001b[0m\n\u001b[0;32m   6566\u001b[0m \u001b[1;33m\u001b[0m\u001b[0m\n\u001b[0;32m   6567\u001b[0m         \u001b[1;31m# Massage 'x' for processing.\u001b[0m\u001b[1;33m\u001b[0m\u001b[1;33m\u001b[0m\u001b[1;33m\u001b[0m\u001b[0m\n\u001b[1;32m-> 6568\u001b[1;33m         \u001b[0mx\u001b[0m \u001b[1;33m=\u001b[0m \u001b[0mcbook\u001b[0m\u001b[1;33m.\u001b[0m\u001b[0m_reshape_2D\u001b[0m\u001b[1;33m(\u001b[0m\u001b[0mx\u001b[0m\u001b[1;33m,\u001b[0m \u001b[1;34m'x'\u001b[0m\u001b[1;33m)\u001b[0m\u001b[1;33m\u001b[0m\u001b[1;33m\u001b[0m\u001b[0m\n\u001b[0m\u001b[0;32m   6569\u001b[0m         \u001b[0mnx\u001b[0m \u001b[1;33m=\u001b[0m \u001b[0mlen\u001b[0m\u001b[1;33m(\u001b[0m\u001b[0mx\u001b[0m\u001b[1;33m)\u001b[0m  \u001b[1;31m# number of datasets\u001b[0m\u001b[1;33m\u001b[0m\u001b[1;33m\u001b[0m\u001b[0m\n\u001b[0;32m   6570\u001b[0m \u001b[1;33m\u001b[0m\u001b[0m\n",
      "\u001b[1;32m~\\.conda\\envs\\tutorials\\lib\\site-packages\\matplotlib\\cbook\\__init__.py\u001b[0m in \u001b[0;36m_reshape_2D\u001b[1;34m(X, name)\u001b[0m\n\u001b[0;32m   1359\u001b[0m             \u001b[1;32mreturn\u001b[0m \u001b[1;33m[\u001b[0m\u001b[0mnp\u001b[0m\u001b[1;33m.\u001b[0m\u001b[0mreshape\u001b[0m\u001b[1;33m(\u001b[0m\u001b[0mx\u001b[0m\u001b[1;33m,\u001b[0m \u001b[1;33m-\u001b[0m\u001b[1;36m1\u001b[0m\u001b[1;33m)\u001b[0m \u001b[1;32mfor\u001b[0m \u001b[0mx\u001b[0m \u001b[1;32min\u001b[0m \u001b[0mX\u001b[0m\u001b[1;33m]\u001b[0m\u001b[1;33m\u001b[0m\u001b[1;33m\u001b[0m\u001b[0m\n\u001b[0;32m   1360\u001b[0m         \u001b[1;32melse\u001b[0m\u001b[1;33m:\u001b[0m\u001b[1;33m\u001b[0m\u001b[1;33m\u001b[0m\u001b[0m\n\u001b[1;32m-> 1361\u001b[1;33m             \u001b[1;32mraise\u001b[0m \u001b[0mValueError\u001b[0m\u001b[1;33m(\u001b[0m\u001b[1;34mf'{name} must have 2 or fewer dimensions'\u001b[0m\u001b[1;33m)\u001b[0m\u001b[1;33m\u001b[0m\u001b[1;33m\u001b[0m\u001b[0m\n\u001b[0m\u001b[0;32m   1362\u001b[0m \u001b[1;33m\u001b[0m\u001b[0m\n\u001b[0;32m   1363\u001b[0m     \u001b[1;31m# Iterate over list of iterables.\u001b[0m\u001b[1;33m\u001b[0m\u001b[1;33m\u001b[0m\u001b[1;33m\u001b[0m\u001b[0m\n",
      "\u001b[1;31mValueError\u001b[0m: x must have 2 or fewer dimensions"
     ]
    },
    {
     "data": {
      "image/png": "[encoded data removed]",
      "text/plain": [
       "<Figure size 720x504 with 1 Axes>"
      ]
     },
     "metadata": {
      "needs_background": "light"
     },
     "output_type": "display_data"
    }
   ],
   "source": [
    "# fig, ax = plt.subplots(figsize =(10, 7))\n",
    "# plt.hist(rgb_img,bins=[-0.2,-0.1,0.0,0.1,0.15,0.20,0.25,0.3,0.35,0.4,0.5,0.6])\n",
    "# plt.xlabel(\"ndvi_value\")\n",
    "# plt.ylabel(\"no of pixels\")\n",
    "# plt.legend(legend)\n",
    "# plt.title('Customized histogram')\n",
    "# plt.tight_layout\n",
    "# plt.show() \n"
   ]
  },
  {
   "cell_type": "code",
   "execution_count": 39,
   "id": "ebec9f6f",
   "metadata": {},
   "outputs": [
    {
     "name": "stdout",
     "output_type": "stream",
     "text": [
      "Exporting ndvi7 ...\n"
     ]
    }
   ],
   "source": [
    "# geemap.ee_export_image_to_drive(ndvi7, description='ndvi7', folder='https://drive.google.com/drive/folders/1gxiCbZy7o6ea33PUM117taHp7OhENzDh?usp=sharing', region=roi, scale=30)"
   ]
  },
  {
   "cell_type": "code",
   "execution_count": 40,
   "id": "867ade92",
   "metadata": {},
   "outputs": [],
   "source": [
    "# in7=rasterio.open('https://github.com/UdayKumar0711/cropinsure/blob/main/ndvi_224_reproject.tif?raw=true')"
   ]
  },
  {
   "cell_type": "code",
   "execution_count": 41,
   "id": "e813d295",
   "metadata": {},
   "outputs": [
    {
     "data": {
      "image/png": "[encoded data removed]",
      "text/plain": [
       "<Figure size 720x504 with 1 Axes>"
      ]
     },
     "metadata": {
      "needs_background": "light"
     },
     "output_type": "display_data"
    },
    {
     "data": {
      "image/png": "[encoded data removed]",
      "text/plain": [
       "<Figure size 720x504 with 1 Axes>"
      ]
     },
     "metadata": {
      "needs_background": "light"
     },
     "output_type": "display_data"
    },
    {
     "data": {
      "image/png": "[encoded data removed]",
      "text/plain": [
       "<Figure size 720x504 with 1 Axes>"
      ]
     },
     "metadata": {
      "needs_background": "light"
     },
     "output_type": "display_data"
    },
    {
     "data": {
      "image/png": "[encoded data removed]",
      "text/plain": [
       "<Figure size 720x504 with 1 Axes>"
      ]
     },
     "metadata": {
      "needs_background": "light"
     },
     "output_type": "display_data"
    },
    {
     "data": {
      "image/png": "[encoded data removed]",
      "text/plain": [
       "<Figure size 720x504 with 1 Axes>"
      ]
     },
     "metadata": {
      "needs_background": "light"
     },
     "output_type": "display_data"
    },
    {
     "data": {
      "image/png": "[encoded data removed]",
      "text/plain": [
       "<Figure size 720x504 with 1 Axes>"
      ]
     },
     "metadata": {
      "needs_background": "light"
     },
     "output_type": "display_data"
    }
   ],
   "source": [
    "def ndviplot(dataset,name):\n",
    " \n",
    " dataset1=dataset.read(1)\n",
    "#  print(dataset1)\n",
    "#  print(type(dataset1))\n",
    "#  print(dataset.width)\n",
    "#  print(dataset.height)\n",
    "#  n_bins = 5\n",
    " legend=['ndvi_'+name+'_histogram']\n",
    " fig, ax = plt.subplots(figsize =(10, 7))\n",
    " plt.hist(dataset1,bins=[-0.2,-0.1,0.0,0.1,0.15,0.20,0.25,0.3,0.35,0.4,0.5,0.6])\n",
    " plt.xlabel(\"ndvi_value\")\n",
    " plt.ylabel(\"no of pixels\")\n",
    " plt.legend(legend)\n",
    " plt.title('Customized histogram')\n",
    " plt.tight_layout\n",
    " plt.show() \n",
    "\n",
    "in7=rasterio.open('https://github.com/UdayKumar0711/cropinsure/blob/main/ndvi_224_reproject.tif?raw=true')\n",
    "\n",
    "in8=rasterio.open('https://github.com/UdayKumar0711/cropinsure/blob/main/ndvi_256_reproject.tif?raw=true')\n",
    "in9=rasterio.open('https://github.com/UdayKumar0711/cropinsure/blob/main/ndvi_288_reproject.tif?raw=true')\n",
    "in10=rasterio.open('https://github.com/UdayKumar0711/cropinsure/blob/main/ndvi_320_reproject.tif?raw=true')\n",
    "in11=rasterio.open('https://github.com/UdayKumar0711/cropinsure/blob/main/ndvi_352_reproject.tif?raw=true')\n",
    "in12=rasterio.open('https://github.com/UdayKumar0711/cropinsure/blob/main/ndvi_384_reproject.tif?raw=true')\n",
    "ndviplot(in7,'july')\n",
    "ndviplot(in8,'august')\n",
    "ndviplot(in9,'sept')\n",
    "ndviplot(in10,'oct')\n",
    "ndviplot(in11,'nov')\n",
    "ndviplot(in12,'dec')\n"
   ]
  },
  {
   "cell_type": "code",
   "execution_count": null,
   "id": "3fecbe3a",
   "metadata": {},
   "outputs": [],
   "source": []
  }
 ],
 "metadata": {
  "hide_input": false,
  "kernelspec": {
   "display_name": "Python 3",
   "language": "python",
   "name": "python3"
  },
  "language_info": {
   "codemirror_mode": {
    "name": "ipython",
    "version": 3
   },
   "file_extension": ".py",
   "mimetype": "text/x-python",
   "name": "python",
   "nbconvert_exporter": "python",
   "pygments_lexer": "ipython3",
   "version": "3.7.10"
  },
  "latex_envs": {
   "LaTeX_envs_menu_present": true,
   "autoclose": false,
   "autocomplete": true,
   "bibliofile": "biblio.bib",
   "cite_by": "apalike",
   "current_citInitial": 1,
   "eqLabelWithNumbers": true,
   "eqNumInitial": 1,
   "hotkeys": {
    "equation": "Ctrl-E",
    "itemize": "Ctrl-I"
   },
   "labels_anchors": false,
   "latex_user_defs": false,
   "report_style_numbering": false,
   "user_envs_cfg": false
  },
  "toc": {
   "base_numbering": 1,
   "nav_menu": {},
   "number_sections": true,
   "sideBar": true,
   "skip_h1_title": false,
   "title_cell": "Table of Contents",
   "title_sidebar": "Contents",
   "toc_cell": false,
   "toc_position": {},
   "toc_section_display": true,
   "toc_window_display": false
  }
 },
 "nbformat": 4,
 "nbformat_minor": 5
}
